{
 "cells": [
  {
   "cell_type": "markdown",
   "id": "dcca84b6",
   "metadata": {},
   "source": [
    "# While\n",
    "- \"While\" on python is used to execute statements as long as the given condition is met (True)\n",
    "- The condition can be any expression, please remember that True in Python includes all non-zero values\n",
    "- When the condition becomes false, the program will proceed to the line after the statement block"
   ]
  },
  {
   "cell_type": "code",
   "execution_count": null,
   "id": "e610abe6",
   "metadata": {
    "scrolled": true
   },
   "outputs": [],
   "source": [
    "#function can't stop, continues looping \n",
    "angka = int(input())\n",
    "\n",
    "# while (angka < 3):\n",
    "#     print(\"bilangan\")"
   ]
  },
  {
   "cell_type": "code",
   "execution_count": 2,
   "id": "3199a976",
   "metadata": {},
   "outputs": [
    {
     "name": "stdout",
     "output_type": "stream",
     "text": [
      "1\n",
      "bilangan 1\n",
      "bilangan 2\n"
     ]
    }
   ],
   "source": [
    "angka = int(input())\n",
    "\n",
    "while (angka < 3):\n",
    "    print(\"bilangan {}\".format(angka))\n",
    "    angka = angka+1"
   ]
  },
  {
   "cell_type": "code",
   "execution_count": 18,
   "id": "59051ca7",
   "metadata": {},
   "outputs": [
    {
     "name": "stdout",
     "output_type": "stream",
     "text": [
      "7\n",
      "bilangan 7\n",
      "bilangan 9\n"
     ]
    }
   ],
   "source": [
    "#output in the form of original numbers\n",
    "angka = int(input())\n",
    "\n",
    "while (angka < 10):\n",
    "    print(\"bilangan {}\".format(angka))\n",
    "    angka = angka+2"
   ]
  },
  {
   "cell_type": "code",
   "execution_count": 19,
   "id": "abd40713",
   "metadata": {},
   "outputs": [
    {
     "name": "stdout",
     "output_type": "stream",
     "text": [
      "7\n",
      "bilangan 9\n",
      "bilangan 11\n"
     ]
    }
   ],
   "source": [
    "#output in the form of summation results\n",
    "angka = int(input())\n",
    "\n",
    "while (angka < 10):\n",
    "    angka = angka+2\n",
    "    print(\"bilangan {}\".format(angka))\n",
    "    "
   ]
  },
  {
   "cell_type": "markdown",
   "id": "5e44834c",
   "metadata": {},
   "source": [
    "# TASK\n",
    "function while with reduction limits"
   ]
  },
  {
   "cell_type": "code",
   "execution_count": 21,
   "id": "676d95d3",
   "metadata": {
    "scrolled": true
   },
   "outputs": [
    {
     "name": "stdout",
     "output_type": "stream",
     "text": [
      "9\n",
      "bilangan 9\n",
      "bilangan 7\n",
      "bilangan 5\n"
     ]
    }
   ],
   "source": [
    "#output in the form of original numbers\n",
    "angka = int(input())\n",
    "\n",
    "while (angka > 4):\n",
    "    print(\"bilangan {}\".format(angka))\n",
    "    angka = angka-2"
   ]
  },
  {
   "cell_type": "markdown",
   "id": "60d42d06",
   "metadata": {},
   "source": [
    "# Else After While Function\n",
    "In while statement, the else statement blok will always be executed when the condition on the while becomes false"
   ]
  },
  {
   "cell_type": "code",
   "execution_count": 1,
   "id": "360b6f76",
   "metadata": {},
   "outputs": [
    {
     "name": "stdout",
     "output_type": "stream",
     "text": [
      "1\n",
      "3\n",
      "5\n",
      "7\n",
      "9\n",
      "11\n",
      "loop selesai\n"
     ]
    }
   ],
   "source": [
    "angka = int(input())\n",
    "\n",
    "while (angka <10):\n",
    "    angka = angka +2\n",
    "    if angka == 6:\n",
    "        break\n",
    "    print(angka)\n",
    "else:\n",
    "    print(\"loop selesai\")"
   ]
  },
  {
   "cell_type": "code",
   "execution_count": 2,
   "id": "6355a279",
   "metadata": {},
   "outputs": [
    {
     "name": "stdout",
     "output_type": "stream",
     "text": [
      "10\n",
      "8\n",
      "6\n",
      "4\n",
      "2\n",
      "0\n",
      "loop selesai\n"
     ]
    }
   ],
   "source": [
    "angka = int(input())\n",
    "\n",
    "while (angka >0):\n",
    "    angka = angka -2\n",
    "    print(angka)\n",
    "else:\n",
    "    print(\"loop selesai\")"
   ]
  },
  {
   "cell_type": "markdown",
   "id": "e46f8f2b",
   "metadata": {},
   "source": [
    "# TASK"
   ]
  },
  {
   "cell_type": "code",
   "execution_count": 3,
   "id": "8565c259",
   "metadata": {},
   "outputs": [
    {
     "name": "stdout",
     "output_type": "stream",
     "text": [
      "7\n",
      "Bilangan 1 merupakan bilangan Ganjil\n",
      "Bilangan 2 merupakan bilangan Genap\n",
      "Bilangan 3 merupakan bilangan Ganjil\n",
      "Bilangan 4 merupakan bilangan Genap\n",
      "Bilangan 5 merupakan bilangan Ganjil\n",
      "Bilangan 7 merupakan bilangan Ganjil\n"
     ]
    }
   ],
   "source": [
    "angka = int(input())\n",
    "i = 0\n",
    "\n",
    "while(i<angka):\n",
    "    i+=1\n",
    "    if(i%2==0):\n",
    "        if(i==6):\n",
    "            continue\n",
    "        if(i==8):\n",
    "            break\n",
    "        print('Bilangan {} merupakan bilangan Genap'.format(i))\n",
    "    else:\n",
    "        print('Bilangan {} merupakan bilangan Ganjil'.format(i))"
   ]
  },
  {
   "cell_type": "code",
   "execution_count": 4,
   "id": "cbb5ce1d",
   "metadata": {},
   "outputs": [
    {
     "name": "stdout",
     "output_type": "stream",
     "text": [
      "Bilangan 1 merupakan bilangan Ganjil\n",
      "Bilangan 2 merupakan bilangan Genap\n",
      "Bilangan 3 merupakan bilangan Ganjil\n",
      "Bilangan 4 merupakan bilangan Genap\n",
      "Bilangan 5 merupakan bilangan Ganjil\n",
      "Bilangan 7 merupakan bilangan Ganjil\n"
     ]
    }
   ],
   "source": [
    "input = 10\n",
    "i = 0\n",
    "\n",
    "while(i<input):\n",
    "    i+=1\n",
    "    if(i%2==0):\n",
    "        if(i==6):\n",
    "            continue\n",
    "        if(i==8):\n",
    "            break\n",
    "        print('Bilangan {} merupakan bilangan Genap'.format(i))\n",
    "    else:\n",
    "        print('Bilangan {} merupakan bilangan Ganjil'.format(i))"
   ]
  },
  {
   "cell_type": "code",
   "execution_count": 1,
   "id": "4e0af4af",
   "metadata": {},
   "outputs": [
    {
     "name": "stdout",
     "output_type": "stream",
     "text": [
      "Masukkan nama anda : 4\n",
      "Masukkan nama anda dengan benar\n",
      "Masukkan nama anda : Shafira\n",
      "Nama anda adalah Shafira\n"
     ]
    }
   ],
   "source": [
    "name = input(\"Masukkan nama anda : \")\n",
    "while(name != \"exit\") :\n",
    "    if(not(name.isalpha())):\n",
    "        print(\"Masukkan nama anda dengan benar\")\n",
    "        name = input(\"Masukkan nama anda : \")\n",
    "    else:\n",
    "        print(\"Nama anda adalah\", name)\n",
    "        break"
   ]
  }
 ],
 "metadata": {
  "kernelspec": {
   "display_name": "Python 3 (ipykernel)",
   "language": "python",
   "name": "python3"
  },
  "language_info": {
   "codemirror_mode": {
    "name": "ipython",
    "version": 3
   },
   "file_extension": ".py",
   "mimetype": "text/x-python",
   "name": "python",
   "nbconvert_exporter": "python",
   "pygments_lexer": "ipython3",
   "version": "3.9.7"
  }
 },
 "nbformat": 4,
 "nbformat_minor": 5
}
