{
 "cells": [
  {
   "cell_type": "markdown",
   "id": "086c67a4",
   "metadata": {},
   "source": [
    "len()\n",
    "\n",
    "The len() function returns the number of items in an object.\n",
    "\n",
    "When the object is a string, the len() function returns the number of characters in the string.\n",
    "\n",
    "\n",
    "#quiz 1"
   ]
  },
  {
   "cell_type": "code",
   "execution_count": 7,
   "id": "ec1ef376",
   "metadata": {},
   "outputs": [],
   "source": [
    "a = [1,1,2,2,3,3,4,4,5,5]"
   ]
  },
  {
   "cell_type": "code",
   "execution_count": 8,
   "id": "107eb94c",
   "metadata": {},
   "outputs": [
    {
     "name": "stdout",
     "output_type": "stream",
     "text": [
      "[1, 1, 2, 2, 3, 3, 4, 4, 5, 5]\n"
     ]
    }
   ],
   "source": [
    "print (a)"
   ]
  },
  {
   "cell_type": "code",
   "execution_count": 9,
   "id": "4313f8a2",
   "metadata": {},
   "outputs": [
    {
     "data": {
      "text/plain": [
       "10"
      ]
     },
     "execution_count": 9,
     "metadata": {},
     "output_type": "execute_result"
    }
   ],
   "source": [
    "len(a)"
   ]
  },
  {
   "cell_type": "code",
   "execution_count": 4,
   "id": "99ca0f6e",
   "metadata": {},
   "outputs": [],
   "source": [
    "b = {1,1,2,2,3,3,4,4,5,5}"
   ]
  },
  {
   "cell_type": "code",
   "execution_count": 5,
   "id": "f7b0ce4e",
   "metadata": {},
   "outputs": [
    {
     "name": "stdout",
     "output_type": "stream",
     "text": [
      "{1, 2, 3, 4, 5}\n"
     ]
    }
   ],
   "source": [
    "print (b)"
   ]
  },
  {
   "cell_type": "code",
   "execution_count": 6,
   "id": "34bcb493",
   "metadata": {},
   "outputs": [
    {
     "data": {
      "text/plain": [
       "5"
      ]
     },
     "execution_count": 6,
     "metadata": {},
     "output_type": "execute_result"
    }
   ],
   "source": [
    "len(b)"
   ]
  },
  {
   "cell_type": "code",
   "execution_count": 7,
   "id": "97b6d633",
   "metadata": {},
   "outputs": [],
   "source": [
    "c = 'Kampus Merdeka'"
   ]
  },
  {
   "cell_type": "code",
   "execution_count": 10,
   "id": "69b0932b",
   "metadata": {},
   "outputs": [
    {
     "name": "stdout",
     "output_type": "stream",
     "text": [
      "Kampus Merdeka\n"
     ]
    }
   ],
   "source": [
    "print(c)"
   ]
  },
  {
   "cell_type": "code",
   "execution_count": 9,
   "id": "eedc4e3d",
   "metadata": {},
   "outputs": [
    {
     "data": {
      "text/plain": [
       "14"
      ]
     },
     "execution_count": 9,
     "metadata": {},
     "output_type": "execute_result"
    }
   ],
   "source": [
    "len(c)"
   ]
  },
  {
   "cell_type": "markdown",
   "id": "02ac6971",
   "metadata": {},
   "source": [
    "min () and max.\n",
    "\n",
    "The min() function returns the item with the lowest value, or the item with the lowest value in an iterable. If the values are strings, an alphabetically comparison is done.\n",
    "\n",
    "The max() function returns the item with the highest value, or the item with the highest value in an iterable. If the values are strings, an alphabetically comparison is done.\n",
    "\n",
    "#quiz 2"
   ]
  },
  {
   "cell_type": "code",
   "execution_count": 19,
   "id": "14924ff8",
   "metadata": {},
   "outputs": [],
   "source": [
    "a = [1,1,2,2,3,3,4,4,5,5]"
   ]
  },
  {
   "cell_type": "code",
   "execution_count": 20,
   "id": "bb6550b5",
   "metadata": {},
   "outputs": [
    {
     "data": {
      "text/plain": [
       "1"
      ]
     },
     "execution_count": 20,
     "metadata": {},
     "output_type": "execute_result"
    }
   ],
   "source": [
    "min(a)"
   ]
  },
  {
   "cell_type": "code",
   "execution_count": 21,
   "id": "a90ec4c7",
   "metadata": {},
   "outputs": [
    {
     "data": {
      "text/plain": [
       "5"
      ]
     },
     "execution_count": 21,
     "metadata": {},
     "output_type": "execute_result"
    }
   ],
   "source": [
    "max(a)"
   ]
  },
  {
   "cell_type": "code",
   "execution_count": 10,
   "id": "c7d33455",
   "metadata": {},
   "outputs": [],
   "source": [
    "b = ['Adam','Lewis','Burhan','Salim','Ahmad','Hana','Dea','Omar']"
   ]
  },
  {
   "cell_type": "code",
   "execution_count": 11,
   "id": "fa2e51f7",
   "metadata": {},
   "outputs": [
    {
     "data": {
      "text/plain": [
       "'Adam'"
      ]
     },
     "execution_count": 11,
     "metadata": {},
     "output_type": "execute_result"
    }
   ],
   "source": [
    "min(b)"
   ]
  },
  {
   "cell_type": "code",
   "execution_count": 12,
   "id": "611e4041",
   "metadata": {},
   "outputs": [
    {
     "data": {
      "text/plain": [
       "'Salim'"
      ]
     },
     "execution_count": 12,
     "metadata": {},
     "output_type": "execute_result"
    }
   ],
   "source": [
    "max(b)"
   ]
  },
  {
   "cell_type": "markdown",
   "id": "f8f33693",
   "metadata": {},
   "source": [
    "count ()\n",
    "\n",
    "The count() method returns the number of elements with the specified value or the number of times a specified value appears in the string."
   ]
  },
  {
   "cell_type": "code",
   "execution_count": 14,
   "id": "fa0f23cf",
   "metadata": {},
   "outputs": [],
   "source": [
    "a = [1,1,2,2,3,3,4,4,5,5]"
   ]
  },
  {
   "cell_type": "code",
   "execution_count": 15,
   "id": "dfd7c4c1",
   "metadata": {},
   "outputs": [
    {
     "data": {
      "text/plain": [
       "2"
      ]
     },
     "execution_count": 15,
     "metadata": {},
     "output_type": "execute_result"
    }
   ],
   "source": [
    "a.count(5)"
   ]
  },
  {
   "cell_type": "code",
   "execution_count": 16,
   "id": "9ce2e52f",
   "metadata": {},
   "outputs": [],
   "source": [
    "b = 'Kampus Merdeka'"
   ]
  },
  {
   "cell_type": "code",
   "execution_count": 18,
   "id": "b5c57377",
   "metadata": {},
   "outputs": [
    {
     "data": {
      "text/plain": [
       "2"
      ]
     },
     "execution_count": 18,
     "metadata": {},
     "output_type": "execute_result"
    }
   ],
   "source": [
    "b.count('e')"
   ]
  },
  {
   "cell_type": "markdown",
   "id": "e2042700",
   "metadata": {},
   "source": [
    "Merging (+) dan Replication (*)\n",
    "\n",
    "To concatenate, or combine, two strings you can use the + operator.\n",
    "\n",
    "To double or more strings, you can use the * operator.\n",
    "\n",
    "#quiz 3"
   ]
  },
  {
   "cell_type": "code",
   "execution_count": 22,
   "id": "d8e07957",
   "metadata": {},
   "outputs": [],
   "source": [
    "a = [0,9,8,7,6,5,0,9,8,7,6,5]"
   ]
  },
  {
   "cell_type": "code",
   "execution_count": 23,
   "id": "1a6a6bf5",
   "metadata": {},
   "outputs": [],
   "source": [
    "b = ['k','a','m','p','u','s']"
   ]
  },
  {
   "cell_type": "code",
   "execution_count": 26,
   "id": "6885d2ce",
   "metadata": {},
   "outputs": [
    {
     "data": {
      "text/plain": [
       "['k', 'a', 'm', 'p', 'u', 's', 0, 9, 8, 7, 6, 5, 0, 9, 8, 7, 6, 5]"
      ]
     },
     "execution_count": 26,
     "metadata": {},
     "output_type": "execute_result"
    }
   ],
   "source": [
    "b + a"
   ]
  },
  {
   "cell_type": "code",
   "execution_count": 30,
   "id": "5de57e17",
   "metadata": {},
   "outputs": [
    {
     "data": {
      "text/plain": [
       "['k', 'a', 'm', 'p', 'u', 's', 'k', 'a', 'm', 'p', 'u', 's']"
      ]
     },
     "execution_count": 30,
     "metadata": {},
     "output_type": "execute_result"
    }
   ],
   "source": [
    "b*2"
   ]
  },
  {
   "cell_type": "code",
   "execution_count": 2,
   "id": "257e7c76",
   "metadata": {},
   "outputs": [],
   "source": [
    "c = ['b','e','s','t','i','e']*2"
   ]
  },
  {
   "cell_type": "code",
   "execution_count": 3,
   "id": "52303648",
   "metadata": {},
   "outputs": [
    {
     "name": "stdout",
     "output_type": "stream",
     "text": [
      "['b', 'e', 's', 't', 'i', 'e', 'b', 'e', 's', 't', 'i', 'e']\n"
     ]
    }
   ],
   "source": [
    "print (c)"
   ]
  },
  {
   "cell_type": "code",
   "execution_count": 6,
   "id": "c8db5ee0",
   "metadata": {},
   "outputs": [
    {
     "name": "stdout",
     "output_type": "stream",
     "text": [
      "bestie love\n"
     ]
    }
   ],
   "source": [
    "x = 'bestie'\n",
    "y = ' love'\n",
    "z = x + y\n",
    "print (z)"
   ]
  },
  {
   "cell_type": "markdown",
   "id": "0bd2f0b0",
   "metadata": {},
   "source": [
    "range()\n",
    "\n",
    "The range() function returns a sequence of numbers, starting from 0 by default, and increments by 1 (by default), and stops before a specified number.\n",
    "\n",
    "#quiz 4"
   ]
  },
  {
   "cell_type": "code",
   "execution_count": 36,
   "id": "5edde8e0",
   "metadata": {},
   "outputs": [
    {
     "name": "stdout",
     "output_type": "stream",
     "text": [
      "0\n",
      "1\n",
      "2\n",
      "3\n",
      "4\n",
      "5\n",
      "6\n",
      "7\n"
     ]
    }
   ],
   "source": [
    "for a in range(8):\n",
    "    print(a)"
   ]
  },
  {
   "cell_type": "code",
   "execution_count": 38,
   "id": "3fe3812a",
   "metadata": {},
   "outputs": [
    {
     "name": "stdout",
     "output_type": "stream",
     "text": [
      "1\n",
      "2\n",
      "3\n",
      "4\n"
     ]
    }
   ],
   "source": [
    "for b in range (1,5):\n",
    "    print (b)"
   ]
  },
  {
   "cell_type": "code",
   "execution_count": 39,
   "id": "36e2c85f",
   "metadata": {},
   "outputs": [
    {
     "name": "stdout",
     "output_type": "stream",
     "text": [
      "1\n",
      "4\n",
      "7\n"
     ]
    }
   ],
   "source": [
    "for c in range (1,10,3):\n",
    "    print (c)"
   ]
  },
  {
   "cell_type": "markdown",
   "id": "e255db68",
   "metadata": {},
   "source": [
    "in and not in\n",
    "\n",
    "When used in a condition, the statement returns a Boolean result evaluating into either True or False. When the specified value is found inside the sequence, the statement returns True. Whereas when it is not found, we get a False.\n",
    "\n",
    "#quiz 5"
   ]
  },
  {
   "cell_type": "code",
   "execution_count": 46,
   "id": "cba4fa42",
   "metadata": {},
   "outputs": [],
   "source": [
    "a = 'oh masih adakah cinta yang abadi menyatukan dua hati saling isi'"
   ]
  },
  {
   "cell_type": "code",
   "execution_count": 47,
   "id": "4e97cae0",
   "metadata": {},
   "outputs": [
    {
     "data": {
      "text/plain": [
       "True"
      ]
     },
     "execution_count": 47,
     "metadata": {},
     "output_type": "execute_result"
    }
   ],
   "source": [
    "'cinta' in a"
   ]
  },
  {
   "cell_type": "code",
   "execution_count": 48,
   "id": "e70da1da",
   "metadata": {},
   "outputs": [
    {
     "data": {
      "text/plain": [
       "False"
      ]
     },
     "execution_count": 48,
     "metadata": {},
     "output_type": "execute_result"
    }
   ],
   "source": [
    "'benci' in a"
   ]
  },
  {
   "cell_type": "code",
   "execution_count": 49,
   "id": "9da919fc",
   "metadata": {},
   "outputs": [
    {
     "data": {
      "text/plain": [
       "True"
      ]
     },
     "execution_count": 49,
     "metadata": {},
     "output_type": "execute_result"
    }
   ],
   "source": [
    "'segitiga' not in a"
   ]
  },
  {
   "cell_type": "markdown",
   "id": "1c27d74e",
   "metadata": {},
   "source": [
    "Giving value in multiple variable"
   ]
  },
  {
   "cell_type": "code",
   "execution_count": 50,
   "id": "38f5efc6",
   "metadata": {},
   "outputs": [],
   "source": [
    "minuman = ['boba','brown sugar','cream cheese']"
   ]
  },
  {
   "cell_type": "code",
   "execution_count": 51,
   "id": "355e4751",
   "metadata": {},
   "outputs": [
    {
     "name": "stdout",
     "output_type": "stream",
     "text": [
      "['boba', 'brown sugar', 'cream cheese']\n"
     ]
    }
   ],
   "source": [
    "print (minuman)"
   ]
  },
  {
   "cell_type": "code",
   "execution_count": 53,
   "id": "bb9749fd",
   "metadata": {},
   "outputs": [],
   "source": [
    "nama = minuman[0]"
   ]
  },
  {
   "cell_type": "code",
   "execution_count": 54,
   "id": "3fc598fe",
   "metadata": {},
   "outputs": [
    {
     "name": "stdout",
     "output_type": "stream",
     "text": [
      "boba\n"
     ]
    }
   ],
   "source": [
    "print (nama)"
   ]
  },
  {
   "cell_type": "code",
   "execution_count": 55,
   "id": "a2ed8fb8",
   "metadata": {},
   "outputs": [],
   "source": [
    "jenis = minuman[1]"
   ]
  },
  {
   "cell_type": "code",
   "execution_count": 56,
   "id": "980a1fb2",
   "metadata": {},
   "outputs": [],
   "source": [
    "topping = minuman[2]"
   ]
  },
  {
   "cell_type": "code",
   "execution_count": 58,
   "id": "3ff00d1a",
   "metadata": {},
   "outputs": [
    {
     "name": "stdout",
     "output_type": "stream",
     "text": [
      "boba brown sugar cream cheese\n"
     ]
    }
   ],
   "source": [
    "print (nama, jenis, topping)"
   ]
  },
  {
   "cell_type": "code",
   "execution_count": 70,
   "id": "3c3f5102",
   "metadata": {},
   "outputs": [],
   "source": [
    "snack = ['risol mayo','telur daging','pedas']"
   ]
  },
  {
   "cell_type": "code",
   "execution_count": 71,
   "id": "f70c7573",
   "metadata": {},
   "outputs": [
    {
     "name": "stdout",
     "output_type": "stream",
     "text": [
      "['risol mayo', 'telur daging', 'pedas']\n"
     ]
    }
   ],
   "source": [
    "print(snack)"
   ]
  },
  {
   "cell_type": "code",
   "execution_count": 72,
   "id": "72de4ba5",
   "metadata": {},
   "outputs": [],
   "source": [
    "jajan = snack[0]"
   ]
  },
  {
   "cell_type": "code",
   "execution_count": 73,
   "id": "726b093e",
   "metadata": {},
   "outputs": [],
   "source": [
    "isian = snack[1]"
   ]
  },
  {
   "cell_type": "code",
   "execution_count": 74,
   "id": "cc181e7e",
   "metadata": {},
   "outputs": [],
   "source": [
    "rasa = snack [2]"
   ]
  },
  {
   "cell_type": "code",
   "execution_count": 75,
   "id": "cf26d2a1",
   "metadata": {},
   "outputs": [
    {
     "name": "stdout",
     "output_type": "stream",
     "text": [
      "risol mayo telur daging pedas\n"
     ]
    }
   ],
   "source": [
    "print(jajan, isian, rasa)"
   ]
  },
  {
   "cell_type": "markdown",
   "id": "f2e91e9b",
   "metadata": {},
   "source": [
    "Python has a best practical way\n",
    "\n",
    "we can give values in multiple variables from list and tuple elements.\n",
    "\n",
    "the amount of variable and item must have same amount."
   ]
  },
  {
   "cell_type": "code",
   "execution_count": 59,
   "id": "4fc082c1",
   "metadata": {},
   "outputs": [],
   "source": [
    "minuman = ['boba','brown sugar','cream cheese']"
   ]
  },
  {
   "cell_type": "code",
   "execution_count": 60,
   "id": "da4f24a2",
   "metadata": {},
   "outputs": [],
   "source": [
    "nama, jenis, topping = minuman"
   ]
  },
  {
   "cell_type": "code",
   "execution_count": 63,
   "id": "0c675fd0",
   "metadata": {},
   "outputs": [
    {
     "name": "stdout",
     "output_type": "stream",
     "text": [
      "boba brown sugar cream cheese\n"
     ]
    }
   ],
   "source": [
    "print (nama, jenis, topping)"
   ]
  },
  {
   "cell_type": "code",
   "execution_count": 76,
   "id": "725fd886",
   "metadata": {},
   "outputs": [],
   "source": [
    "snack = ['risol mayo','telur daging','pedas']"
   ]
  },
  {
   "cell_type": "code",
   "execution_count": 79,
   "id": "858072f9",
   "metadata": {},
   "outputs": [],
   "source": [
    "jajan, isian, rasa = snack"
   ]
  },
  {
   "cell_type": "code",
   "execution_count": 81,
   "id": "b7922523",
   "metadata": {},
   "outputs": [
    {
     "name": "stdout",
     "output_type": "stream",
     "text": [
      "risol mayo telur daging pedas\n"
     ]
    }
   ],
   "source": [
    "print(jajan, isian, rasa)"
   ]
  },
  {
   "cell_type": "markdown",
   "id": "63f245ee",
   "metadata": {},
   "source": [
    "we can change two or more variables"
   ]
  },
  {
   "cell_type": "code",
   "execution_count": 65,
   "id": "84bd9cde",
   "metadata": {},
   "outputs": [],
   "source": [
    "ayam, sambal = 'matah', 'betutu'"
   ]
  },
  {
   "cell_type": "code",
   "execution_count": 66,
   "id": "838ea41a",
   "metadata": {},
   "outputs": [],
   "source": [
    "ayam, sambal = sambal, ayam"
   ]
  },
  {
   "cell_type": "code",
   "execution_count": 67,
   "id": "a461310e",
   "metadata": {},
   "outputs": [
    {
     "data": {
      "text/plain": [
       "'betutu'"
      ]
     },
     "execution_count": 67,
     "metadata": {},
     "output_type": "execute_result"
    }
   ],
   "source": [
    "ayam"
   ]
  },
  {
   "cell_type": "code",
   "execution_count": 68,
   "id": "5102bb64",
   "metadata": {},
   "outputs": [
    {
     "data": {
      "text/plain": [
       "'matah'"
      ]
     },
     "execution_count": 68,
     "metadata": {},
     "output_type": "execute_result"
    }
   ],
   "source": [
    "sambal"
   ]
  },
  {
   "cell_type": "markdown",
   "id": "4453cec3",
   "metadata": {},
   "source": [
    "sort()\n",
    "\n",
    "- sort() method will sort the list alphanumerically (ascending)\n",
    "#quiz 2"
   ]
  },
  {
   "cell_type": "code",
   "execution_count": 90,
   "id": "32224291",
   "metadata": {},
   "outputs": [],
   "source": [
    "nabi= ['adam','idris','nuh','hud','sholeh','ibrahim']"
   ]
  },
  {
   "cell_type": "code",
   "execution_count": 91,
   "id": "95c4a6e8",
   "metadata": {},
   "outputs": [],
   "source": [
    "nabi.sort()"
   ]
  },
  {
   "cell_type": "code",
   "execution_count": 92,
   "id": "bd801d36",
   "metadata": {},
   "outputs": [
    {
     "name": "stdout",
     "output_type": "stream",
     "text": [
      "['adam', 'hud', 'ibrahim', 'idris', 'nuh', 'sholeh']\n"
     ]
    }
   ],
   "source": [
    "print(nabi)"
   ]
  },
  {
   "cell_type": "markdown",
   "id": "e652f8f1",
   "metadata": {},
   "source": [
    "To sort descending, use the keyword argument reverse = True"
   ]
  },
  {
   "cell_type": "code",
   "execution_count": 93,
   "id": "76178268",
   "metadata": {},
   "outputs": [],
   "source": [
    "nabi.sort(reverse=True)"
   ]
  },
  {
   "cell_type": "code",
   "execution_count": 94,
   "id": "1358f294",
   "metadata": {},
   "outputs": [
    {
     "name": "stdout",
     "output_type": "stream",
     "text": [
      "['sholeh', 'nuh', 'idris', 'ibrahim', 'hud', 'adam']\n"
     ]
    }
   ],
   "source": [
    "print(nabi)"
   ]
  },
  {
   "cell_type": "markdown",
   "id": "ef880067",
   "metadata": {},
   "source": [
    "sort() method cannot be run for combinations between int and str"
   ]
  },
  {
   "cell_type": "code",
   "execution_count": 13,
   "id": "ee4c87ab",
   "metadata": {},
   "outputs": [
    {
     "ename": "TypeError",
     "evalue": "'<' not supported between instances of 'int' and 'str'",
     "output_type": "error",
     "traceback": [
      "\u001b[1;31m---------------------------------------------------------------------------\u001b[0m",
      "\u001b[1;31mTypeError\u001b[0m                                 Traceback (most recent call last)",
      "Input \u001b[1;32mIn [13]\u001b[0m, in \u001b[0;36m<cell line: 2>\u001b[1;34m()\u001b[0m\n\u001b[0;32m      1\u001b[0m no \u001b[38;5;241m=\u001b[39m [\u001b[38;5;124m\"\u001b[39m\u001b[38;5;124mB\u001b[39m\u001b[38;5;124m\"\u001b[39m,\u001b[38;5;241m2\u001b[39m,\u001b[38;5;241m1\u001b[39m,\u001b[38;5;124m\"\u001b[39m\u001b[38;5;124mA\u001b[39m\u001b[38;5;124m\"\u001b[39m,\u001b[38;5;124m\"\u001b[39m\u001b[38;5;124mC\u001b[39m\u001b[38;5;124m\"\u001b[39m]\n\u001b[1;32m----> 2\u001b[0m \u001b[43mno\u001b[49m\u001b[38;5;241;43m.\u001b[39;49m\u001b[43msort\u001b[49m\u001b[43m(\u001b[49m\u001b[43m)\u001b[49m\n\u001b[0;32m      3\u001b[0m \u001b[38;5;28mprint\u001b[39m(no)\n",
      "\u001b[1;31mTypeError\u001b[0m: '<' not supported between instances of 'int' and 'str'"
     ]
    }
   ],
   "source": [
    "no = [\"B\",2,1,\"A\",\"C\"]\n",
    "no.sort()\n",
    "print(no)"
   ]
  },
  {
   "cell_type": "code",
   "execution_count": 96,
   "id": "cab155f2",
   "metadata": {},
   "outputs": [],
   "source": [
    "angel = ['Mikael','izrail','munkar','Nakir','Malik']"
   ]
  },
  {
   "cell_type": "code",
   "execution_count": 97,
   "id": "e60f73ae",
   "metadata": {},
   "outputs": [],
   "source": [
    "angel.sort()"
   ]
  },
  {
   "cell_type": "code",
   "execution_count": 98,
   "id": "15e10e62",
   "metadata": {},
   "outputs": [
    {
     "name": "stdout",
     "output_type": "stream",
     "text": [
      "['Malik', 'Mikael', 'Nakir', 'izrail', 'munkar']\n"
     ]
    }
   ],
   "source": [
    "print(angel)"
   ]
  },
  {
   "cell_type": "markdown",
   "id": "cd228708",
   "metadata": {},
   "source": [
    "Use **str.lower** as a key function to sort by the first letter."
   ]
  },
  {
   "cell_type": "code",
   "execution_count": 99,
   "id": "88f83022",
   "metadata": {},
   "outputs": [],
   "source": [
    "angel.sort(key=str.lower)"
   ]
  },
  {
   "cell_type": "code",
   "execution_count": 100,
   "id": "5e39487e",
   "metadata": {},
   "outputs": [
    {
     "name": "stdout",
     "output_type": "stream",
     "text": [
      "['izrail', 'Malik', 'Mikael', 'munkar', 'Nakir']\n"
     ]
    }
   ],
   "source": [
    "print(angel)"
   ]
  },
  {
   "cell_type": "code",
   "execution_count": null,
   "id": "d040ca47",
   "metadata": {},
   "outputs": [],
   "source": []
  }
 ],
 "metadata": {
  "kernelspec": {
   "display_name": "Python 3 (ipykernel)",
   "language": "python",
   "name": "python3"
  },
  "language_info": {
   "codemirror_mode": {
    "name": "ipython",
    "version": 3
   },
   "file_extension": ".py",
   "mimetype": "text/x-python",
   "name": "python",
   "nbconvert_exporter": "python",
   "pygments_lexer": "ipython3",
   "version": "3.9.12"
  }
 },
 "nbformat": 4,
 "nbformat_minor": 5
}
