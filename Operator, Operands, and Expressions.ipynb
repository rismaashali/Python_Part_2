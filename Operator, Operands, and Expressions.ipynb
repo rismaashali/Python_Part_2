{
 "cells": [
  {
   "cell_type": "markdown",
   "id": "08af4ac8",
   "metadata": {},
   "source": [
    "# Operator, Operands, dan Expressions"
   ]
  },
  {
   "cell_type": "markdown",
   "id": "97ac76d0",
   "metadata": {},
   "source": [
    "**1+2b+c**\n",
    "\n",
    "+:Operator\n",
    "\n",
    "1,2,atau b,c:Variabel/Operands"
   ]
  },
  {
   "cell_type": "code",
   "execution_count": 1,
   "id": "3a35ca58",
   "metadata": {},
   "outputs": [
    {
     "name": "stdout",
     "output_type": "stream",
     "text": [
      "3\n"
     ]
    }
   ],
   "source": [
    "print(1+2)"
   ]
  },
  {
   "cell_type": "code",
   "execution_count": 2,
   "id": "b205a447",
   "metadata": {},
   "outputs": [
    {
     "name": "stdout",
     "output_type": "stream",
     "text": [
      "12\n"
     ]
    }
   ],
   "source": [
    "print(3*4)"
   ]
  },
  {
   "cell_type": "markdown",
   "id": "7cf2ba86",
   "metadata": {},
   "source": [
    "# Python Operators"
   ]
  },
  {
   "cell_type": "markdown",
   "id": "e50af534",
   "metadata": {},
   "source": [
    "# Arithmetic Operators"
   ]
  },
  {
   "cell_type": "markdown",
   "id": "bbe8dde6",
   "metadata": {},
   "source": [
    "**+ (Addition)**"
   ]
  },
  {
   "cell_type": "code",
   "execution_count": 4,
   "id": "0952f0de",
   "metadata": {},
   "outputs": [
    {
     "data": {
      "text/plain": [
       "11"
      ]
     },
     "execution_count": 4,
     "metadata": {},
     "output_type": "execute_result"
    }
   ],
   "source": [
    "5+6"
   ]
  },
  {
   "cell_type": "code",
   "execution_count": 5,
   "id": "a52da81a",
   "metadata": {},
   "outputs": [
    {
     "data": {
      "text/plain": [
       "'data'"
      ]
     },
     "execution_count": 5,
     "metadata": {},
     "output_type": "execute_result"
    }
   ],
   "source": [
    "'da' + 'ta'"
   ]
  },
  {
   "cell_type": "markdown",
   "id": "5000f69c",
   "metadata": {},
   "source": [
    "**- (Subtraction)**"
   ]
  },
  {
   "cell_type": "code",
   "execution_count": 6,
   "id": "c91966cd",
   "metadata": {},
   "outputs": [
    {
     "data": {
      "text/plain": [
       "5"
      ]
     },
     "execution_count": 6,
     "metadata": {},
     "output_type": "execute_result"
    }
   ],
   "source": [
    "8-3"
   ]
  },
  {
   "cell_type": "markdown",
   "id": "a6abeaae",
   "metadata": {},
   "source": [
    "Not applicable to _str_, will result in an unsupported operand error."
   ]
  },
  {
   "cell_type": "code",
   "execution_count": 7,
   "id": "89c53ba9",
   "metadata": {},
   "outputs": [
    {
     "ename": "TypeError",
     "evalue": "unsupported operand type(s) for -: 'str' and 'str'",
     "output_type": "error",
     "traceback": [
      "\u001b[1;31m---------------------------------------------------------------------------\u001b[0m",
      "\u001b[1;31mTypeError\u001b[0m                                 Traceback (most recent call last)",
      "\u001b[1;32m~\\AppData\\Local\\Temp/ipykernel_7592/3183750527.py\u001b[0m in \u001b[0;36m<module>\u001b[1;34m\u001b[0m\n\u001b[1;32m----> 1\u001b[1;33m \u001b[1;34m'data'\u001b[0m \u001b[1;33m-\u001b[0m \u001b[1;34m'da'\u001b[0m\u001b[1;33m\u001b[0m\u001b[1;33m\u001b[0m\u001b[0m\n\u001b[0m",
      "\u001b[1;31mTypeError\u001b[0m: unsupported operand type(s) for -: 'str' and 'str'"
     ]
    }
   ],
   "source": [
    "'data' - 'da'"
   ]
  },
  {
   "cell_type": "markdown",
   "id": "30ec0af7",
   "metadata": {},
   "source": [
    "*** (Multiplication)**"
   ]
  },
  {
   "cell_type": "code",
   "execution_count": 8,
   "id": "ad914699",
   "metadata": {},
   "outputs": [
    {
     "data": {
      "text/plain": [
       "20"
      ]
     },
     "execution_count": 8,
     "metadata": {},
     "output_type": "execute_result"
    }
   ],
   "source": [
    "4*5"
   ]
  },
  {
   "cell_type": "markdown",
   "id": "4ed3615c",
   "metadata": {},
   "source": [
    "Returns a string that repeats a specified number."
   ]
  },
  {
   "cell_type": "code",
   "execution_count": 9,
   "id": "8e48ed77",
   "metadata": {},
   "outputs": [
    {
     "data": {
      "text/plain": [
       "'CieCieCie'"
      ]
     },
     "execution_count": 9,
     "metadata": {},
     "output_type": "execute_result"
    }
   ],
   "source": [
    "\"Cie\"*3"
   ]
  },
  {
   "cell_type": "markdown",
   "id": "e7538efb",
   "metadata": {},
   "source": [
    "# Task"
   ]
  },
  {
   "cell_type": "code",
   "execution_count": 10,
   "id": "a5152472",
   "metadata": {},
   "outputs": [
    {
     "data": {
      "text/plain": [
       "45"
      ]
     },
     "execution_count": 10,
     "metadata": {},
     "output_type": "execute_result"
    }
   ],
   "source": [
    "#addition\n",
    "6+39"
   ]
  },
  {
   "cell_type": "code",
   "execution_count": 11,
   "id": "1f44b51b",
   "metadata": {},
   "outputs": [
    {
     "data": {
      "text/plain": [
       "'Indonesia'"
      ]
     },
     "execution_count": 11,
     "metadata": {},
     "output_type": "execute_result"
    }
   ],
   "source": [
    "'Indo'+'nesia'"
   ]
  },
  {
   "cell_type": "code",
   "execution_count": 12,
   "id": "0864dec4",
   "metadata": {},
   "outputs": [
    {
     "data": {
      "text/plain": [
       "-5"
      ]
     },
     "execution_count": 12,
     "metadata": {},
     "output_type": "execute_result"
    }
   ],
   "source": [
    "#subtraction\n",
    "10-15"
   ]
  },
  {
   "cell_type": "code",
   "execution_count": 13,
   "id": "85a22f1e",
   "metadata": {},
   "outputs": [
    {
     "data": {
      "text/plain": [
       "48"
      ]
     },
     "execution_count": 13,
     "metadata": {},
     "output_type": "execute_result"
    }
   ],
   "source": [
    "#multiplication\n",
    "8*6"
   ]
  },
  {
   "cell_type": "code",
   "execution_count": 14,
   "id": "1a08310d",
   "metadata": {},
   "outputs": [
    {
     "data": {
      "text/plain": [
       "'MerdekaMerdekaMerdeka'"
      ]
     },
     "execution_count": 14,
     "metadata": {},
     "output_type": "execute_result"
    }
   ],
   "source": [
    "\"Merdeka\"*3"
   ]
  },
  {
   "cell_type": "markdown",
   "id": "fb8dd699",
   "metadata": {},
   "source": [
    "**** (Power)**"
   ]
  },
  {
   "cell_type": "code",
   "execution_count": 15,
   "id": "49906847",
   "metadata": {
    "scrolled": true
   },
   "outputs": [
    {
     "data": {
      "text/plain": [
       "8"
      ]
     },
     "execution_count": 15,
     "metadata": {},
     "output_type": "execute_result"
    }
   ],
   "source": [
    "2**3"
   ]
  },
  {
   "cell_type": "code",
   "execution_count": 16,
   "id": "9ecf8b8f",
   "metadata": {},
   "outputs": [
    {
     "data": {
      "text/plain": [
       "3.0"
      ]
     },
     "execution_count": 16,
     "metadata": {},
     "output_type": "execute_result"
    }
   ],
   "source": [
    "9**0.5"
   ]
  },
  {
   "cell_type": "markdown",
   "id": "cc9d64b0",
   "metadata": {},
   "source": [
    "**/ (Division)**"
   ]
  },
  {
   "cell_type": "code",
   "execution_count": 17,
   "id": "eb641b73",
   "metadata": {},
   "outputs": [
    {
     "data": {
      "text/plain": [
       "3.0"
      ]
     },
     "execution_count": 17,
     "metadata": {},
     "output_type": "execute_result"
    }
   ],
   "source": [
    "6/2"
   ]
  },
  {
   "cell_type": "code",
   "execution_count": 18,
   "id": "94cf2b47",
   "metadata": {},
   "outputs": [
    {
     "data": {
      "text/plain": [
       "3.142857142857143"
      ]
     },
     "execution_count": 18,
     "metadata": {},
     "output_type": "execute_result"
    }
   ],
   "source": [
    "22/7"
   ]
  },
  {
   "cell_type": "markdown",
   "id": "386458a1",
   "metadata": {},
   "source": [
    "**// (Floor division)**\n",
    "- Returns the result of the division of the first operand with the second operand(integer).\n",
    "- Unless one of the operands is float, it will result in a float."
   ]
  },
  {
   "cell_type": "code",
   "execution_count": 19,
   "id": "ccf1daf6",
   "metadata": {},
   "outputs": [
    {
     "data": {
      "text/plain": [
       "3"
      ]
     },
     "execution_count": 19,
     "metadata": {},
     "output_type": "execute_result"
    }
   ],
   "source": [
    "7//2"
   ]
  },
  {
   "cell_type": "markdown",
   "id": "1f9551c6",
   "metadata": {},
   "source": [
    "**% (Modulus)**\n",
    "\n",
    "Divides left hand operand by right hand operand and returns remainder."
   ]
  },
  {
   "cell_type": "code",
   "execution_count": 20,
   "id": "b809bdff",
   "metadata": {},
   "outputs": [
    {
     "data": {
      "text/plain": [
       "1"
      ]
     },
     "execution_count": 20,
     "metadata": {},
     "output_type": "execute_result"
    }
   ],
   "source": [
    "7%2"
   ]
  },
  {
   "cell_type": "code",
   "execution_count": 21,
   "id": "bf9b9cc1",
   "metadata": {},
   "outputs": [
    {
     "data": {
      "text/plain": [
       "1.0"
      ]
     },
     "execution_count": 21,
     "metadata": {},
     "output_type": "execute_result"
    }
   ],
   "source": [
    "4%1.5"
   ]
  },
  {
   "cell_type": "markdown",
   "id": "761ade98",
   "metadata": {},
   "source": [
    "# Task"
   ]
  },
  {
   "cell_type": "code",
   "execution_count": 23,
   "id": "95e4f353",
   "metadata": {},
   "outputs": [
    {
     "data": {
      "text/plain": [
       "256"
      ]
     },
     "execution_count": 23,
     "metadata": {},
     "output_type": "execute_result"
    }
   ],
   "source": [
    "#exponentiation\n",
    "4**4"
   ]
  },
  {
   "cell_type": "code",
   "execution_count": 24,
   "id": "67e2bde1",
   "metadata": {},
   "outputs": [
    {
     "data": {
      "text/plain": [
       "22.5"
      ]
     },
     "execution_count": 24,
     "metadata": {},
     "output_type": "execute_result"
    }
   ],
   "source": [
    "#division\n",
    "90/4"
   ]
  },
  {
   "cell_type": "code",
   "execution_count": 25,
   "id": "cc667479",
   "metadata": {},
   "outputs": [
    {
     "data": {
      "text/plain": [
       "16"
      ]
     },
     "execution_count": 25,
     "metadata": {},
     "output_type": "execute_result"
    }
   ],
   "source": [
    "#floor division\n",
    "50//3"
   ]
  },
  {
   "cell_type": "code",
   "execution_count": 26,
   "id": "72f87b8e",
   "metadata": {},
   "outputs": [
    {
     "data": {
      "text/plain": [
       "2"
      ]
     },
     "execution_count": 26,
     "metadata": {},
     "output_type": "execute_result"
    }
   ],
   "source": [
    "#modulus\n",
    "50%3"
   ]
  },
  {
   "cell_type": "markdown",
   "id": "e916288f",
   "metadata": {},
   "source": [
    "# Comparison Operators"
   ]
  },
  {
   "cell_type": "markdown",
   "id": "a53b4da3",
   "metadata": {},
   "source": [
    "**< (less than)**"
   ]
  },
  {
   "cell_type": "markdown",
   "id": "0b7964d1",
   "metadata": {},
   "source": [
    "- If the value of left operand is less than the value of right operand, then condition becomes true."
   ]
  },
  {
   "cell_type": "code",
   "execution_count": 27,
   "id": "afc7dbf9",
   "metadata": {},
   "outputs": [
    {
     "data": {
      "text/plain": [
       "True"
      ]
     },
     "execution_count": 27,
     "metadata": {},
     "output_type": "execute_result"
    }
   ],
   "source": [
    "1 < 2"
   ]
  },
  {
   "cell_type": "markdown",
   "id": "669d2258",
   "metadata": {},
   "source": [
    "Comparison can contain more than two operands."
   ]
  },
  {
   "cell_type": "code",
   "execution_count": 28,
   "id": "e35eeffd",
   "metadata": {},
   "outputs": [
    {
     "data": {
      "text/plain": [
       "True"
      ]
     },
     "execution_count": 28,
     "metadata": {},
     "output_type": "execute_result"
    }
   ],
   "source": [
    "1 < 2 < 3"
   ]
  },
  {
   "cell_type": "markdown",
   "id": "0aab00da",
   "metadata": {},
   "source": [
    "**> (greater than)**\n",
    "- If the value of left operand is greater than the value of right operand, then condition becomes true."
   ]
  },
  {
   "cell_type": "code",
   "execution_count": 29,
   "id": "9bb2e5a7",
   "metadata": {},
   "outputs": [
    {
     "data": {
      "text/plain": [
       "True"
      ]
     },
     "execution_count": 29,
     "metadata": {},
     "output_type": "execute_result"
    }
   ],
   "source": [
    "2 > 1"
   ]
  },
  {
   "cell_type": "code",
   "execution_count": 30,
   "id": "63824d56",
   "metadata": {},
   "outputs": [
    {
     "data": {
      "text/plain": [
       "True"
      ]
     },
     "execution_count": 30,
     "metadata": {},
     "output_type": "execute_result"
    }
   ],
   "source": [
    "3 > 2 > 1"
   ]
  },
  {
   "cell_type": "markdown",
   "id": "b1244165",
   "metadata": {},
   "source": [
    "**<= (less than or equal to)**\n",
    "- If the value of left operand is less than or equal to the value of right operand, then condition becomes true."
   ]
  },
  {
   "cell_type": "code",
   "execution_count": 31,
   "id": "7e311b84",
   "metadata": {},
   "outputs": [
    {
     "data": {
      "text/plain": [
       "True"
      ]
     },
     "execution_count": 31,
     "metadata": {},
     "output_type": "execute_result"
    }
   ],
   "source": [
    "3 <= 3"
   ]
  },
  {
   "cell_type": "markdown",
   "id": "a14f8dd2",
   "metadata": {},
   "source": [
    "**>= (greater than or equal to)**\n",
    "- If the value of left operand is greater than or equal to the value of right operand, then condition becomes true."
   ]
  },
  {
   "cell_type": "code",
   "execution_count": 32,
   "id": "aebd6f93",
   "metadata": {},
   "outputs": [],
   "source": [
    "a = 1"
   ]
  },
  {
   "cell_type": "code",
   "execution_count": 33,
   "id": "f9cf52c8",
   "metadata": {},
   "outputs": [],
   "source": [
    "b = 2"
   ]
  },
  {
   "cell_type": "code",
   "execution_count": 34,
   "id": "3757ea33",
   "metadata": {},
   "outputs": [
    {
     "data": {
      "text/plain": [
       "False"
      ]
     },
     "execution_count": 34,
     "metadata": {},
     "output_type": "execute_result"
    }
   ],
   "source": [
    "a >= b"
   ]
  },
  {
   "cell_type": "markdown",
   "id": "2bf2edf2",
   "metadata": {},
   "source": [
    "**== (equal to)**\n",
    "- If the values of two operands are equal, then the condition becomes true."
   ]
  },
  {
   "cell_type": "code",
   "execution_count": 1,
   "id": "29ba5efa",
   "metadata": {},
   "outputs": [
    {
     "data": {
      "text/plain": [
       "False"
      ]
     },
     "execution_count": 1,
     "metadata": {},
     "output_type": "execute_result"
    }
   ],
   "source": [
    "x = 1\n",
    "y = 2\n",
    "x == y"
   ]
  },
  {
   "cell_type": "code",
   "execution_count": 2,
   "id": "5ccf2222",
   "metadata": {},
   "outputs": [
    {
     "data": {
      "text/plain": [
       "False"
      ]
     },
     "execution_count": 2,
     "metadata": {},
     "output_type": "execute_result"
    }
   ],
   "source": [
    "a = \"aku\"\n",
    "b = \"aKu\"\n",
    "a == b"
   ]
  },
  {
   "cell_type": "markdown",
   "id": "481e0b5c",
   "metadata": {},
   "source": [
    "**!= (not equal to)**\n",
    "- If values of two operands are not equal, then condition becomes true."
   ]
  },
  {
   "cell_type": "code",
   "execution_count": 41,
   "id": "26e94dcd",
   "metadata": {},
   "outputs": [],
   "source": [
    "x = 1"
   ]
  },
  {
   "cell_type": "code",
   "execution_count": 42,
   "id": "83557bf7",
   "metadata": {},
   "outputs": [],
   "source": [
    "y = 2"
   ]
  },
  {
   "cell_type": "code",
   "execution_count": 43,
   "id": "71869761",
   "metadata": {},
   "outputs": [
    {
     "data": {
      "text/plain": [
       "True"
      ]
     },
     "execution_count": 43,
     "metadata": {},
     "output_type": "execute_result"
    }
   ],
   "source": [
    "x != y"
   ]
  },
  {
   "cell_type": "markdown",
   "id": "94e0e448",
   "metadata": {},
   "source": [
    "# Boolean / Logical Operators"
   ]
  },
  {
   "cell_type": "markdown",
   "id": "af5996f3",
   "metadata": {},
   "source": [
    "**not (boolean NOT)**\n",
    "- If x is True, the function returns False.\n",
    "- If x is False, the function returns True."
   ]
  },
  {
   "cell_type": "code",
   "execution_count": 44,
   "id": "1ecceec8",
   "metadata": {},
   "outputs": [],
   "source": [
    "x = True"
   ]
  },
  {
   "cell_type": "code",
   "execution_count": 45,
   "id": "6bbe7449",
   "metadata": {},
   "outputs": [
    {
     "data": {
      "text/plain": [
       "False"
      ]
     },
     "execution_count": 45,
     "metadata": {},
     "output_type": "execute_result"
    }
   ],
   "source": [
    "not x"
   ]
  },
  {
   "cell_type": "markdown",
   "id": "d11e55c0",
   "metadata": {},
   "source": [
    "**and (boolean AND)**"
   ]
  },
  {
   "cell_type": "markdown",
   "id": "c3444c37",
   "metadata": {},
   "source": [
    "- If both the operands are true then condition becomes true.\n",
    "- x AND y returns False if x is False and y is True.\n",
    "- x AND y returns False if y is False and x is True."
   ]
  },
  {
   "cell_type": "code",
   "execution_count": 50,
   "id": "f50cf00e",
   "metadata": {},
   "outputs": [
    {
     "data": {
      "text/plain": [
       "True"
      ]
     },
     "execution_count": 50,
     "metadata": {},
     "output_type": "execute_result"
    }
   ],
   "source": [
    "x = True\n",
    "y = True\n",
    "x and y"
   ]
  },
  {
   "cell_type": "code",
   "execution_count": 51,
   "id": "aa1a50b5",
   "metadata": {},
   "outputs": [
    {
     "data": {
      "text/plain": [
       "False"
      ]
     },
     "execution_count": 51,
     "metadata": {},
     "output_type": "execute_result"
    }
   ],
   "source": [
    "x = True\n",
    "y = False\n",
    "x and y"
   ]
  },
  {
   "cell_type": "code",
   "execution_count": 52,
   "id": "94851e3c",
   "metadata": {},
   "outputs": [
    {
     "data": {
      "text/plain": [
       "False"
      ]
     },
     "execution_count": 52,
     "metadata": {},
     "output_type": "execute_result"
    }
   ],
   "source": [
    "x = False\n",
    "y = False\n",
    "x and y"
   ]
  },
  {
   "cell_type": "code",
   "execution_count": 53,
   "id": "6f96e729",
   "metadata": {},
   "outputs": [
    {
     "data": {
      "text/plain": [
       "False"
      ]
     },
     "execution_count": 53,
     "metadata": {},
     "output_type": "execute_result"
    }
   ],
   "source": [
    "x = False\n",
    "y = True\n",
    "x and y"
   ]
  },
  {
   "cell_type": "markdown",
   "id": "9040a375",
   "metadata": {},
   "source": [
    "**or (boolean OR)**"
   ]
  },
  {
   "cell_type": "markdown",
   "id": "5af542e6",
   "metadata": {},
   "source": [
    "- If any of the two operands are non-zero then condition becomes true.\n",
    "- x OR y, if x is True and y is False, the function returns True.\n",
    "- x OR y, if x is False and y is True, the function returns True."
   ]
  },
  {
   "cell_type": "markdown",
   "id": "15116f5d",
   "metadata": {},
   "source": [
    "In this case, Python also uses short.circuit evaluation because any y value will not affect the result."
   ]
  },
  {
   "cell_type": "code",
   "execution_count": 54,
   "id": "47b6551f",
   "metadata": {},
   "outputs": [
    {
     "data": {
      "text/plain": [
       "True"
      ]
     },
     "execution_count": 54,
     "metadata": {},
     "output_type": "execute_result"
    }
   ],
   "source": [
    "x = True\n",
    "y = True\n",
    "x or y"
   ]
  },
  {
   "cell_type": "code",
   "execution_count": 55,
   "id": "8944b50e",
   "metadata": {},
   "outputs": [
    {
     "data": {
      "text/plain": [
       "True"
      ]
     },
     "execution_count": 55,
     "metadata": {},
     "output_type": "execute_result"
    }
   ],
   "source": [
    "x = True\n",
    "y = False\n",
    "x or y"
   ]
  },
  {
   "cell_type": "code",
   "execution_count": 56,
   "id": "eb29c512",
   "metadata": {},
   "outputs": [
    {
     "data": {
      "text/plain": [
       "False"
      ]
     },
     "execution_count": 56,
     "metadata": {},
     "output_type": "execute_result"
    }
   ],
   "source": [
    "x = False\n",
    "y = False\n",
    "x or y"
   ]
  },
  {
   "cell_type": "code",
   "execution_count": 57,
   "id": "ef13510d",
   "metadata": {},
   "outputs": [
    {
     "data": {
      "text/plain": [
       "True"
      ]
     },
     "execution_count": 57,
     "metadata": {},
     "output_type": "execute_result"
    }
   ],
   "source": [
    "x = False\n",
    "y = True\n",
    "x or y"
   ]
  },
  {
   "cell_type": "markdown",
   "id": "9a3b6574",
   "metadata": {},
   "source": [
    "# Task"
   ]
  },
  {
   "cell_type": "code",
   "execution_count": null,
   "id": "3b103554",
   "metadata": {},
   "outputs": [],
   "source": [
    "#If students want to advance to class, they must pass exam 1 and exam 2."
   ]
  },
  {
   "cell_type": "code",
   "execution_count": 3,
   "id": "fc14991a",
   "metadata": {},
   "outputs": [
    {
     "data": {
      "text/plain": [
       "True"
      ]
     },
     "execution_count": 3,
     "metadata": {},
     "output_type": "execute_result"
    }
   ],
   "source": [
    "Exam1 = True\n",
    "Exam2 = True\n",
    "Exam1 and Exam2"
   ]
  },
  {
   "cell_type": "code",
   "execution_count": 4,
   "id": "b2cd1c1c",
   "metadata": {},
   "outputs": [
    {
     "data": {
      "text/plain": [
       "False"
      ]
     },
     "execution_count": 4,
     "metadata": {},
     "output_type": "execute_result"
    }
   ],
   "source": [
    "Exam1 = True\n",
    "Exam2 = False\n",
    "Exam1 and Exam2"
   ]
  },
  {
   "cell_type": "code",
   "execution_count": 5,
   "id": "5a1b7701",
   "metadata": {},
   "outputs": [
    {
     "data": {
      "text/plain": [
       "False"
      ]
     },
     "execution_count": 5,
     "metadata": {},
     "output_type": "execute_result"
    }
   ],
   "source": [
    "Exam1 = False\n",
    "Exam2 = True\n",
    "Exam1 and Exam2"
   ]
  },
  {
   "cell_type": "code",
   "execution_count": 6,
   "id": "4f7bdb91",
   "metadata": {},
   "outputs": [
    {
     "data": {
      "text/plain": [
       "False"
      ]
     },
     "execution_count": 6,
     "metadata": {},
     "output_type": "execute_result"
    }
   ],
   "source": [
    "Exam1 = False\n",
    "Exam2 = False\n",
    "Exam1 and Exam2"
   ]
  },
  {
   "cell_type": "code",
   "execution_count": null,
   "id": "bc97f06e",
   "metadata": {},
   "outputs": [],
   "source": [
    "#Each student may choose at least 1 subject in school"
   ]
  },
  {
   "cell_type": "code",
   "execution_count": 7,
   "id": "17c64a3f",
   "metadata": {},
   "outputs": [
    {
     "data": {
      "text/plain": [
       "True"
      ]
     },
     "execution_count": 7,
     "metadata": {},
     "output_type": "execute_result"
    }
   ],
   "source": [
    "Math = True\n",
    "Chemistry = True\n",
    "Math or Chemistry"
   ]
  },
  {
   "cell_type": "code",
   "execution_count": 8,
   "id": "4f68a490",
   "metadata": {},
   "outputs": [
    {
     "data": {
      "text/plain": [
       "True"
      ]
     },
     "execution_count": 8,
     "metadata": {},
     "output_type": "execute_result"
    }
   ],
   "source": [
    "Math = True\n",
    "Chemistry = False\n",
    "Math or Chemistry"
   ]
  },
  {
   "cell_type": "code",
   "execution_count": 9,
   "id": "ba3dd43d",
   "metadata": {},
   "outputs": [
    {
     "data": {
      "text/plain": [
       "True"
      ]
     },
     "execution_count": 9,
     "metadata": {},
     "output_type": "execute_result"
    }
   ],
   "source": [
    "Math = False\n",
    "Chemistry = True\n",
    "Math or Chemistry"
   ]
  },
  {
   "cell_type": "code",
   "execution_count": 10,
   "id": "b6adbbfd",
   "metadata": {},
   "outputs": [
    {
     "data": {
      "text/plain": [
       "False"
      ]
     },
     "execution_count": 10,
     "metadata": {},
     "output_type": "execute_result"
    }
   ],
   "source": [
    "Math = False\n",
    "Chemistry = False\n",
    "Math or Chemistry"
   ]
  },
  {
   "cell_type": "markdown",
   "id": "b4817571",
   "metadata": {},
   "source": [
    "# Assignment Operators"
   ]
  },
  {
   "cell_type": "markdown",
   "id": "449cff9e",
   "metadata": {},
   "source": [
    "Assignment operators are used to assign values to variables"
   ]
  },
  {
   "cell_type": "code",
   "execution_count": 11,
   "id": "54b3c7ab",
   "metadata": {},
   "outputs": [],
   "source": [
    "a = 2"
   ]
  },
  {
   "cell_type": "code",
   "execution_count": 12,
   "id": "feb021bc",
   "metadata": {},
   "outputs": [],
   "source": [
    "a = a*3"
   ]
  },
  {
   "cell_type": "code",
   "execution_count": 13,
   "id": "997dcab3",
   "metadata": {},
   "outputs": [
    {
     "data": {
      "text/plain": [
       "6"
      ]
     },
     "execution_count": 13,
     "metadata": {},
     "output_type": "execute_result"
    }
   ],
   "source": [
    "a"
   ]
  },
  {
   "cell_type": "code",
   "execution_count": 14,
   "id": "b7236847",
   "metadata": {},
   "outputs": [
    {
     "data": {
      "text/plain": [
       "6"
      ]
     },
     "execution_count": 14,
     "metadata": {},
     "output_type": "execute_result"
    }
   ],
   "source": [
    "a = 2\n",
    "a *= 3\n",
    "a"
   ]
  },
  {
   "cell_type": "code",
   "execution_count": 15,
   "id": "e76d223f",
   "metadata": {},
   "outputs": [],
   "source": [
    "a = 2"
   ]
  },
  {
   "cell_type": "code",
   "execution_count": 16,
   "id": "a6f23a9c",
   "metadata": {},
   "outputs": [],
   "source": [
    "a = a + 3"
   ]
  },
  {
   "cell_type": "code",
   "execution_count": 17,
   "id": "919f60a3",
   "metadata": {},
   "outputs": [
    {
     "data": {
      "text/plain": [
       "5"
      ]
     },
     "execution_count": 17,
     "metadata": {},
     "output_type": "execute_result"
    }
   ],
   "source": [
    "a"
   ]
  },
  {
   "cell_type": "code",
   "execution_count": 18,
   "id": "2364d5cb",
   "metadata": {},
   "outputs": [
    {
     "data": {
      "text/plain": [
       "5"
      ]
     },
     "execution_count": 18,
     "metadata": {},
     "output_type": "execute_result"
    }
   ],
   "source": [
    "a = 2\n",
    "a += 3\n",
    "a"
   ]
  },
  {
   "cell_type": "markdown",
   "id": "15822f07",
   "metadata": {},
   "source": [
    "mathematical order in evaluating"
   ]
  },
  {
   "cell_type": "markdown",
   "id": "6e118588",
   "metadata": {},
   "source": [
    "question = 1 + 2 * 3 ?"
   ]
  },
  {
   "cell_type": "markdown",
   "id": "a1fc908e",
   "metadata": {},
   "source": [
    "Tip: use () for easy readability and ensure proper ordering."
   ]
  },
  {
   "cell_type": "code",
   "execution_count": 19,
   "id": "8917edd6",
   "metadata": {},
   "outputs": [
    {
     "data": {
      "text/plain": [
       "7"
      ]
     },
     "execution_count": 19,
     "metadata": {},
     "output_type": "execute_result"
    }
   ],
   "source": [
    "1 + (2*3)"
   ]
  },
  {
   "cell_type": "code",
   "execution_count": 20,
   "id": "36f8456c",
   "metadata": {},
   "outputs": [
    {
     "data": {
      "text/plain": [
       "7"
      ]
     },
     "execution_count": 20,
     "metadata": {},
     "output_type": "execute_result"
    }
   ],
   "source": [
    "1 + 2*3"
   ]
  },
  {
   "cell_type": "markdown",
   "id": "da30d023",
   "metadata": {},
   "source": [
    "# Task"
   ]
  },
  {
   "cell_type": "code",
   "execution_count": 21,
   "id": "1a25e820",
   "metadata": {},
   "outputs": [
    {
     "data": {
      "text/plain": [
       "14"
      ]
     },
     "execution_count": 21,
     "metadata": {},
     "output_type": "execute_result"
    }
   ],
   "source": [
    "x = 10\n",
    "x += 4\n",
    "x"
   ]
  },
  {
   "cell_type": "code",
   "execution_count": 22,
   "id": "4dad316f",
   "metadata": {},
   "outputs": [
    {
     "data": {
      "text/plain": [
       "20"
      ]
     },
     "execution_count": 22,
     "metadata": {},
     "output_type": "execute_result"
    }
   ],
   "source": [
    "x = 4\n",
    "x *= 5\n",
    "x"
   ]
  },
  {
   "cell_type": "code",
   "execution_count": 23,
   "id": "e6bb8e9a",
   "metadata": {},
   "outputs": [
    {
     "data": {
      "text/plain": [
       "15.666666666666668"
      ]
     },
     "execution_count": 23,
     "metadata": {},
     "output_type": "execute_result"
    }
   ],
   "source": [
    "10 + (4*5)/3 - 1"
   ]
  }
 ],
 "metadata": {
  "kernelspec": {
   "display_name": "Python 3 (ipykernel)",
   "language": "python",
   "name": "python3"
  },
  "language_info": {
   "codemirror_mode": {
    "name": "ipython",
    "version": 3
   },
   "file_extension": ".py",
   "mimetype": "text/x-python",
   "name": "python",
   "nbconvert_exporter": "python",
   "pygments_lexer": "ipython3",
   "version": "3.9.7"
  }
 },
 "nbformat": 4,
 "nbformat_minor": 5
}
