{
 "cells": [
  {
   "cell_type": "markdown",
   "id": "524a9834",
   "metadata": {},
   "source": [
    "# Continue\n",
    "- A continue statement will make the current iteration stop, then move on to the next iteration.\n",
    "- The output will ignore statements that are between continue to the end of the looping block"
   ]
  },
  {
   "cell_type": "code",
   "execution_count": 1,
   "id": "f9d07e83",
   "metadata": {},
   "outputs": [
    {
     "name": "stdout",
     "output_type": "stream",
     "text": [
      "D\n",
      "t\n",
      " \n",
      "A\n",
      "n\n",
      "l\n",
      "y\n",
      "s\n",
      "t\n"
     ]
    }
   ],
   "source": [
    "for i in \"Data Analyst\":\n",
    "    if i == \"a\":\n",
    "        continue\n",
    "    print(i)\n"
   ]
  },
  {
   "cell_type": "markdown",
   "id": "4f185f30",
   "metadata": {},
   "source": [
    "# TASK\n"
   ]
  },
  {
   "cell_type": "code",
   "execution_count": 2,
   "id": "cdbaee59",
   "metadata": {},
   "outputs": [
    {
     "name": "stdout",
     "output_type": "stream",
     "text": [
      "1\n",
      "3\n",
      "5\n",
      "7\n",
      "9\n"
     ]
    }
   ],
   "source": [
    "for i in 1,2,3,4,5,6,7,8,9:\n",
    "    if i % 2 == 0:\n",
    "        continue\n",
    "    print(i)\n"
   ]
  }
 ],
 "metadata": {
  "kernelspec": {
   "display_name": "Python 3 (ipykernel)",
   "language": "python",
   "name": "python3"
  },
  "language_info": {
   "codemirror_mode": {
    "name": "ipython",
    "version": 3
   },
   "file_extension": ".py",
   "mimetype": "text/x-python",
   "name": "python",
   "nbconvert_exporter": "python",
   "pygments_lexer": "ipython3",
   "version": "3.9.7"
  }
 },
 "nbformat": 4,
 "nbformat_minor": 5
}
