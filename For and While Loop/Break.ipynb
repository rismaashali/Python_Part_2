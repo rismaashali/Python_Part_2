{
 "cells": [
  {
   "cell_type": "markdown",
   "id": "e6c93b78",
   "metadata": {},
   "source": [
    "# Break\n",
    "- The break statement in Python terminates the current loop and resumes execution at the next statement.\n",
    "- If you have a tiered loop, the break will stop the loop according to the level or the loop where it is located\n",
    "- However, if it is placed for example in a loop with a second depth, then only stops is that loop, not with the main loop"
   ]
  },
  {
   "cell_type": "code",
   "execution_count": 1,
   "id": "2fed6029",
   "metadata": {},
   "outputs": [
    {
     "name": "stdout",
     "output_type": "stream",
     "text": [
      "D\n",
      "a\n",
      "t\n",
      "a\n"
     ]
    }
   ],
   "source": [
    "for i in \"Data Science\":\n",
    "    if i == \" \":\n",
    "        break\n",
    "    print(i)"
   ]
  },
  {
   "cell_type": "code",
   "execution_count": 1,
   "id": "57157e6d",
   "metadata": {},
   "outputs": [
    {
     "name": "stdout",
     "output_type": "stream",
     "text": [
      "ini string\n"
     ]
    }
   ],
   "source": [
    "for i in [1,\"dua\",\"tiga\",4,5]:\n",
    "    if type(i) == str:\n",
    "        print(\"ini string\")\n",
    "        break\n",
    "        print(i)"
   ]
  },
  {
   "cell_type": "code",
   "execution_count": 3,
   "id": "8e7e192b",
   "metadata": {},
   "outputs": [
    {
     "name": "stdout",
     "output_type": "stream",
     "text": [
      "1\n",
      "2\n",
      "3\n",
      "4\n",
      "5\n",
      "6\n"
     ]
    }
   ],
   "source": [
    "temp = [1,2,3,4,5,6]\n",
    "\n",
    "for i in range(len(temp)):\n",
    "    print(temp[i])\n",
    "    if(i>5):\n",
    "        break"
   ]
  },
  {
   "cell_type": "code",
   "execution_count": 4,
   "id": "de5ed347",
   "metadata": {},
   "outputs": [
    {
     "name": "stdout",
     "output_type": "stream",
     "text": [
      "1\n",
      "3\n",
      "5\n"
     ]
    }
   ],
   "source": [
    "input = 10\n",
    "\n",
    "for i in range(0,input,2):\n",
    "    i = i+1\n",
    "    print(i)\n",
    "    if(i>=5):\n",
    "        break"
   ]
  }
 ],
 "metadata": {
  "kernelspec": {
   "display_name": "Python 3 (ipykernel)",
   "language": "python",
   "name": "python3"
  },
  "language_info": {
   "codemirror_mode": {
    "name": "ipython",
    "version": 3
   },
   "file_extension": ".py",
   "mimetype": "text/x-python",
   "name": "python",
   "nbconvert_exporter": "python",
   "pygments_lexer": "ipython3",
   "version": "3.9.7"
  }
 },
 "nbformat": 4,
 "nbformat_minor": 5
}
