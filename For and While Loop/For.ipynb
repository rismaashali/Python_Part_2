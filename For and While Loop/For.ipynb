{
 "cells": [
  {
   "cell_type": "markdown",
   "id": "168eec0f",
   "metadata": {},
   "source": [
    "For loop\n",
    "\n",
    "\n",
    "For loop is used for iterating over a sequence (that is either a list, a tuple, a dictionary, a set, or a string).\n",
    "With the for loop we can execute a set of statements, once for each item in a list, tuple, set etc."
   ]
  },
  {
   "cell_type": "code",
   "execution_count": 12,
   "id": "f0bf03a3",
   "metadata": {},
   "outputs": [
    {
     "name": "stdout",
     "output_type": "stream",
     "text": [
      "fruit apple\n",
      "fruit orange\n",
      "fruit mango\n"
     ]
    }
   ],
   "source": [
    "fruit = ['apple', 'orange', 'mango']\n",
    "temp = 0\n",
    "\n",
    "for i in fruit:\n",
    "    print ('fruit {}' .format(fruit[temp]))\n",
    "    temp += 1"
   ]
  },
  {
   "cell_type": "markdown",
   "id": "838a3f1c",
   "metadata": {},
   "source": [
    "Nested for\n",
    "\n",
    "A nested for loop is a for loop inside a for loop.\n",
    "The \"inner loop\" will be executed one time for each iteration of the \"outer loop\":"
   ]
  },
  {
   "cell_type": "code",
   "execution_count": 15,
   "id": "7a5c3274",
   "metadata": {},
   "outputs": [
    {
     "name": "stdout",
     "output_type": "stream",
     "text": [
      "    *\n",
      "   ***\n",
      "  *****\n",
      " *******\n",
      "*********\n"
     ]
    }
   ],
   "source": [
    "input = 5\n",
    "\n",
    "for i in range(input):\n",
    "    for j in range(input-(i+1)):\n",
    "        print(' ',end='')\n",
    "    for k in range(i+(i+1)):\n",
    "        print('*',end='')\n",
    "    print(\"\")"
   ]
  },
  {
   "cell_type": "markdown",
   "id": "2f985228",
   "metadata": {},
   "source": [
    "if inside for loop\n",
    "\n",
    "Inside a for loop, you can use if statements as well.\n",
    "to execute program if expression is true"
   ]
  },
  {
   "cell_type": "code",
   "execution_count": 16,
   "id": "969b1818",
   "metadata": {},
   "outputs": [
    {
     "name": "stdout",
     "output_type": "stream",
     "text": [
      "2 is even number\n",
      "4 is even number\n",
      "6 is even number\n",
      "8 is even number\n"
     ]
    }
   ],
   "source": [
    "for i in range (1,10):\n",
    "    if(i%2 == 0):\n",
    "        print(i,'is even number')"
   ]
  },
  {
   "cell_type": "markdown",
   "id": "8203f65a",
   "metadata": {},
   "source": [
    "else after for\n",
    "\n",
    "The else function after for takes precedence on a repeat of a search nature, to provide a way out of the program when the search is not found"
   ]
  },
  {
   "cell_type": "code",
   "execution_count": 18,
   "id": "ff1f9c55",
   "metadata": {},
   "outputs": [
    {
     "name": "stdout",
     "output_type": "stream",
     "text": [
      "1 is not even number\n",
      "2 is even number\n",
      "3 is not even number\n",
      "4 is even number\n",
      "5 is not even number\n",
      "6 is even number\n",
      "7 is not even number\n",
      "8 is even number\n",
      "9 is not even number\n"
     ]
    }
   ],
   "source": [
    "for i in range(1,10):\n",
    "    if i % 2 == 0:\n",
    "        print(\"{} is even number\".format(i))\n",
    "    else:\n",
    "        print(\"{} is not even number\".format(i))"
   ]
  }
 ],
 "metadata": {
  "kernelspec": {
   "display_name": "Python 3 (ipykernel)",
   "language": "python",
   "name": "python3"
  },
  "language_info": {
   "codemirror_mode": {
    "name": "ipython",
    "version": 3
   },
   "file_extension": ".py",
   "mimetype": "text/x-python",
   "name": "python",
   "nbconvert_exporter": "python",
   "pygments_lexer": "ipython3",
   "version": "3.7.9"
  }
 },
 "nbformat": 4,
 "nbformat_minor": 5
}
