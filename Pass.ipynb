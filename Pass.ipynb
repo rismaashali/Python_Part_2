{
 "cells": [
  {
   "cell_type": "markdown",
   "id": "0aa99f76",
   "metadata": {},
   "source": [
    "# Pass "
   ]
  },
  {
   "cell_type": "code",
   "execution_count": 1,
   "id": "819063bb",
   "metadata": {},
   "outputs": [
    {
     "name": "stdout",
     "output_type": "stream",
     "text": [
      "peroleh: 2\n",
      "dapat angka 2\n",
      "peroleh: 3\n",
      "dapat angka 3\n",
      "peroleh: 1\n",
      "dapat angka 1\n",
      "peroleh: 3\n",
      "dapat angka 3\n",
      "peroleh: 5\n",
      "dapat angka 5\n",
      "peroleh: z\n"
     ]
    },
    {
     "ename": "ValueError",
     "evalue": "invalid literal for int() with base 10: 'z'",
     "output_type": "error",
     "traceback": [
      "\u001b[1;31m---------------------------------------------------------------------------\u001b[0m",
      "\u001b[1;31mValueError\u001b[0m                                Traceback (most recent call last)",
      "\u001b[1;32m~\\AppData\\Local\\Temp/ipykernel_27164/1052574700.py\u001b[0m in \u001b[0;36m<module>\u001b[1;34m\u001b[0m\n\u001b[0;32m      3\u001b[0m \u001b[1;32mwhile\u001b[0m\u001b[1;33m(\u001b[0m\u001b[0mn\u001b[0m \u001b[1;33m!=\u001b[0m \u001b[1;34m\"z\"\u001b[0m\u001b[1;33m)\u001b[0m\u001b[1;33m:\u001b[0m\u001b[1;33m\u001b[0m\u001b[1;33m\u001b[0m\u001b[0m\n\u001b[0;32m      4\u001b[0m     \u001b[0mn\u001b[0m \u001b[1;33m=\u001b[0m \u001b[1;33m(\u001b[0m\u001b[0minput\u001b[0m\u001b[1;33m(\u001b[0m\u001b[1;34m\"peroleh: \"\u001b[0m\u001b[1;33m)\u001b[0m\u001b[1;33m)\u001b[0m\u001b[1;33m\u001b[0m\u001b[1;33m\u001b[0m\u001b[0m\n\u001b[1;32m----> 5\u001b[1;33m     \u001b[0mprint\u001b[0m\u001b[1;33m(\u001b[0m\u001b[1;34m'dapat angka {}'\u001b[0m\u001b[1;33m.\u001b[0m\u001b[0mformat\u001b[0m\u001b[1;33m(\u001b[0m\u001b[0mint\u001b[0m\u001b[1;33m(\u001b[0m\u001b[0mn\u001b[0m\u001b[1;33m)\u001b[0m\u001b[1;33m)\u001b[0m\u001b[1;33m)\u001b[0m\u001b[1;33m\u001b[0m\u001b[1;33m\u001b[0m\u001b[0m\n\u001b[0m",
      "\u001b[1;31mValueError\u001b[0m: invalid literal for int() with base 10: 'z'"
     ]
    }
   ],
   "source": [
    "n = \"\"\n",
    "\n",
    "while(n != \"z\"):\n",
    "    n = (input(\"peroleh: \"))\n",
    "    print('dapat angka {}'.format(int(n)))"
   ]
  },
  {
   "cell_type": "code",
   "execution_count": null,
   "id": "37f170ed",
   "metadata": {},
   "outputs": [
    {
     "name": "stdout",
     "output_type": "stream",
     "text": [
      "peroleh : 1\n",
      "dapat angka 1\n",
      "peroleh : 2\n",
      "dapat angka 2\n",
      "peroleh : 4\n",
      "dapat angka 4\n",
      "peroleh : s\n",
      "dapat eror <class 'ValueError'>\n",
      "peroleh : f\n",
      "dapat eror <class 'ValueError'>\n",
      "peroleh : s\n",
      "dapat eror <class 'ValueError'>\n",
      "peroleh : f\n",
      "dapat eror <class 'ValueError'>\n",
      "peroleh : v\n",
      "dapat eror <class 'ValueError'>\n",
      "peroleh : s\n",
      "dapat eror <class 'ValueError'>\n"
     ]
    }
   ],
   "source": [
    "import sys\n",
    "\n",
    "n = ''\n",
    "\n",
    "while(n!= \"z\"):\n",
    "    try:\n",
    "        n = (input(\"peroleh : \"))\n",
    "        print('dapat angka {}'.format(int(n)))\n",
    "    except:\n",
    "        if n == \"z\" :\n",
    "            pass\n",
    "        else:\n",
    "            print('dapat eror {}'.format(sys.exc_info()[0]))\n",
    "        "
   ]
  }
 ],
 "metadata": {
  "kernelspec": {
   "display_name": "Python 3 (ipykernel)",
   "language": "python",
   "name": "python3"
  },
  "language_info": {
   "codemirror_mode": {
    "name": "ipython",
    "version": 3
   },
   "file_extension": ".py",
   "mimetype": "text/x-python",
   "name": "python",
   "nbconvert_exporter": "python",
   "pygments_lexer": "ipython3",
   "version": "3.9.7"
  }
 },
 "nbformat": 4,
 "nbformat_minor": 5
}
