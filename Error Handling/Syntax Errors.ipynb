{
 "cells": [
  {
   "cell_type": "markdown",
   "id": "6e0cb55a",
   "metadata": {},
   "source": [
    "# Errors Handling"
   ]
  },
  {
   "cell_type": "markdown",
   "id": "6f6dc38a",
   "metadata": {},
   "source": [
    "Syntax Errors\n",
    "\n",
    "- Python doesn't understand of the command\n",
    "- Usually happens when you start studying\n",
    "- Improper indent placement"
   ]
  },
  {
   "cell_type": "markdown",
   "id": "236c6a09",
   "metadata": {},
   "source": [
    "Indentation place"
   ]
  },
  {
   "cell_type": "code",
   "execution_count": 4,
   "id": "de992f17",
   "metadata": {},
   "outputs": [
    {
     "ename": "IndentationError",
     "evalue": "expected an indented block (2785405979.py, line 2)",
     "output_type": "error",
     "traceback": [
      "\u001b[1;36m  Input \u001b[1;32mIn [4]\u001b[1;36m\u001b[0m\n\u001b[1;33m    print(i)\u001b[0m\n\u001b[1;37m    ^\u001b[0m\n\u001b[1;31mIndentationError\u001b[0m\u001b[1;31m:\u001b[0m expected an indented block\n"
     ]
    }
   ],
   "source": [
    "for i in 'data':\n",
    "print(i)"
   ]
  },
  {
   "cell_type": "markdown",
   "id": "88c829a3",
   "metadata": {},
   "source": [
    "Don't understand of the command"
   ]
  },
  {
   "cell_type": "code",
   "execution_count": 6,
   "id": "c57f2147",
   "metadata": {},
   "outputs": [
    {
     "ename": "SyntaxError",
     "evalue": "invalid syntax (4257874369.py, line 1)",
     "output_type": "error",
     "traceback": [
      "\u001b[1;36m  Input \u001b[1;32mIn [6]\u001b[1;36m\u001b[0m\n\u001b[1;33m    for i in 'data'\u001b[0m\n\u001b[1;37m                   ^\u001b[0m\n\u001b[1;31mSyntaxError\u001b[0m\u001b[1;31m:\u001b[0m invalid syntax\n"
     ]
    }
   ],
   "source": [
    "for i in 'data'\n",
    "    print(i)"
   ]
  },
  {
   "cell_type": "code",
   "execution_count": 15,
   "id": "38a7b371",
   "metadata": {},
   "outputs": [
    {
     "ename": "NameError",
     "evalue": "name 'uppers' is not defined",
     "output_type": "error",
     "traceback": [
      "\u001b[1;31m---------------------------------------------------------------------------\u001b[0m",
      "\u001b[1;31mNameError\u001b[0m                                 Traceback (most recent call last)",
      "Input \u001b[1;32mIn [15]\u001b[0m, in \u001b[0;36m<cell line: 3>\u001b[1;34m()\u001b[0m\n\u001b[0;32m      1\u001b[0m data \u001b[38;5;241m=\u001b[39m [\u001b[38;5;124m'\u001b[39m\u001b[38;5;124mKampus\u001b[39m\u001b[38;5;124m'\u001b[39m,\u001b[38;5;124m'\u001b[39m\u001b[38;5;124mMerdeka\u001b[39m\u001b[38;5;124m'\u001b[39m]\n\u001b[0;32m      2\u001b[0m upper \u001b[38;5;241m=\u001b[39m [i\u001b[38;5;241m.\u001b[39mlower() \u001b[38;5;28;01mfor\u001b[39;00m i \u001b[38;5;129;01min\u001b[39;00m data]\n\u001b[1;32m----> 3\u001b[0m \u001b[43muppers\u001b[49m\n",
      "\u001b[1;31mNameError\u001b[0m: name 'uppers' is not defined"
     ]
    }
   ],
   "source": [
    "data = ['Kampus','Merdeka']\n",
    "upper = [i.lower() for i in data]\n",
    "uppers"
   ]
  },
  {
   "cell_type": "code",
   "execution_count": 17,
   "id": "feafc8b2",
   "metadata": {},
   "outputs": [
    {
     "ename": "SyntaxError",
     "evalue": "invalid syntax (4287044601.py, line 6)",
     "output_type": "error",
     "traceback": [
      "\u001b[1;36m  Input \u001b[1;32mIn [17]\u001b[1;36m\u001b[0m\n\u001b[1;33m    for i in abc\u001b[0m\n\u001b[1;37m                ^\u001b[0m\n\u001b[1;31mSyntaxError\u001b[0m\u001b[1;31m:\u001b[0m invalid syntax\n"
     ]
    }
   ],
   "source": [
    "abc = ['a','b','c']\n",
    "cde = ['c','d','e']\n",
    "\n",
    "temp = []\n",
    "\n",
    "for i in abc\n",
    "    for j in cde\n",
    "        if i=j:\n",
    "            temp.append(i)\n",
    "temp"
   ]
  }
 ],
 "metadata": {
  "kernelspec": {
   "display_name": "Python 3 (ipykernel)",
   "language": "python",
   "name": "python3"
  },
  "language_info": {
   "codemirror_mode": {
    "name": "ipython",
    "version": 3
   },
   "file_extension": ".py",
   "mimetype": "text/x-python",
   "name": "python",
   "nbconvert_exporter": "python",
   "pygments_lexer": "ipython3",
   "version": "3.9.12"
  }
 },
 "nbformat": 4,
 "nbformat_minor": 5
}
