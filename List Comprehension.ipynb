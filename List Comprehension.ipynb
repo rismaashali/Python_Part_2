{
 "cells": [
  {
   "cell_type": "markdown",
   "id": "e810fd4d",
   "metadata": {},
   "source": [
    "# List Comprehension\n",
    "\n",
    "List comprehension offers a shorter syntax when you want to create a new list based on the values of an existing list."
   ]
  },
  {
   "cell_type": "code",
   "execution_count": 25,
   "id": "31c3b5f7",
   "metadata": {},
   "outputs": [
    {
     "name": "stdout",
     "output_type": "stream",
     "text": [
      "[5.0, 20.0, 30.0]\n"
     ]
    }
   ],
   "source": [
    "angka = [25,400,900]\n",
    "kubik = []\n",
    "\n",
    "for i in angka:\n",
    "    kubik.append(i**0.5)\n",
    "print(kubik)"
   ]
  },
  {
   "cell_type": "markdown",
   "id": "e01bd5f3",
   "metadata": {},
   "source": [
    "Another method\n",
    "\n",
    "new_list = [expression_for_loop_one_or_more_conditions]"
   ]
  },
  {
   "cell_type": "code",
   "execution_count": 26,
   "id": "f12788c3",
   "metadata": {},
   "outputs": [
    {
     "name": "stdout",
     "output_type": "stream",
     "text": [
      "[5.0, 20.0, 30.0]\n"
     ]
    }
   ],
   "source": [
    "angka = [25,400,900]\n",
    "kubik = [i**0.5 for i in angka]\n",
    "\n",
    "print(kubik)"
   ]
  },
  {
   "cell_type": "code",
   "execution_count": 29,
   "id": "06708660",
   "metadata": {},
   "outputs": [
    {
     "name": "stdout",
     "output_type": "stream",
     "text": [
      "['c']\n"
     ]
    }
   ],
   "source": [
    "abc = ['a','b','c']\n",
    "cde = ['c','d','e']\n",
    "\n",
    "dupl = []\n",
    "\n",
    "for i in abc:\n",
    "    for j in cde:\n",
    "        if i == j:\n",
    "            dupl.append(i)\n",
    "print(dupl)"
   ]
  },
  {
   "cell_type": "code",
   "execution_count": 32,
   "id": "8c45372b",
   "metadata": {},
   "outputs": [
    {
     "name": "stdout",
     "output_type": "stream",
     "text": [
      "['c']\n"
     ]
    }
   ],
   "source": [
    "# Cara penulisan lain\n",
    "abc = ['a','b','c']\n",
    "cde = ['c','d','e']\n",
    "\n",
    "dupl = [i for i in abc for j in cde if i == j]\n",
    "\n",
    "print(dupl)"
   ]
  },
  {
   "cell_type": "code",
   "execution_count": 33,
   "id": "b9c9408b",
   "metadata": {},
   "outputs": [
    {
     "data": {
      "text/plain": [
       "[1, 2, 3]"
      ]
     },
     "execution_count": 33,
     "metadata": {},
     "output_type": "execute_result"
    }
   ],
   "source": [
    "list1 = [1,2,3,4,5]\n",
    "list2 = [1,4,9,30,60]\n",
    "\n",
    "temp = []\n",
    "\n",
    "for i in list1:\n",
    "    for j in list2:\n",
    "        if i**2==j:\n",
    "            temp.append(i)\n",
    "temp"
   ]
  },
  {
   "cell_type": "code",
   "execution_count": 35,
   "id": "3768e7ae",
   "metadata": {},
   "outputs": [
    {
     "data": {
      "text/plain": [
       "[1, 2, 3]"
      ]
     },
     "execution_count": 35,
     "metadata": {},
     "output_type": "execute_result"
    }
   ],
   "source": [
    "list1 = [1,2,3,4,5]\n",
    "list2 = [1,4,9,30,60]\n",
    "temp = [i for i in list1 for j in list2 if i**2==j]\n",
    "temp"
   ]
  },
  {
   "cell_type": "code",
   "execution_count": 37,
   "id": "80604fec",
   "metadata": {},
   "outputs": [
    {
     "data": {
      "text/plain": [
       "['fisika', 'bahasa']"
      ]
     },
     "execution_count": 37,
     "metadata": {},
     "output_type": "execute_result"
    }
   ],
   "source": [
    "buku = ['matematika', 'fisika', 'kimia', 'bahasa']\n",
    "temp = []\n",
    "\n",
    "for i in buku:\n",
    "    if 's' in i:\n",
    "        temp.append(i)\n",
    "temp"
   ]
  },
  {
   "cell_type": "code",
   "execution_count": 39,
   "id": "1bf2e502",
   "metadata": {},
   "outputs": [
    {
     "data": {
      "text/plain": [
       "['fisika', 'bahasa']"
      ]
     },
     "execution_count": 39,
     "metadata": {},
     "output_type": "execute_result"
    }
   ],
   "source": [
    "buku = ['matematika', 'fisika', 'kimia', 'bahasa']\n",
    "temp = [i for i in buku if 's' in i]\n",
    "temp"
   ]
  },
  {
   "cell_type": "code",
   "execution_count": 42,
   "id": "ef18152e",
   "metadata": {},
   "outputs": [
    {
     "data": {
      "text/plain": [
       "['DATA', 'SCIENCE']"
      ]
     },
     "execution_count": 42,
     "metadata": {},
     "output_type": "execute_result"
    }
   ],
   "source": [
    "pathway = ['data', 'science']\n",
    "up = [_.upper() for _ in pathway]\n",
    "\n",
    "up"
   ]
  },
  {
   "cell_type": "code",
   "execution_count": 44,
   "id": "9dc368ee",
   "metadata": {},
   "outputs": [
    {
     "name": "stdout",
     "output_type": "stream",
     "text": [
      "[[1, 1], [9, 27], [25, 125], [49, 343]]\n"
     ]
    }
   ],
   "source": [
    "angka = range(1,8,2)\n",
    "kuadrat = [[_**2, _**3] for _ in angka]\n",
    "print(kuadrat)"
   ]
  },
  {
   "cell_type": "code",
   "execution_count": 47,
   "id": "32670a99",
   "metadata": {},
   "outputs": [
    {
     "name": "stdout",
     "output_type": "stream",
     "text": [
      "range(1, 8, 2)\n",
      "range(1, 8, 2)\n",
      "range(1, 8, 2)\n",
      "range(1, 8, 2)\n"
     ]
    }
   ],
   "source": [
    "for _ in range(1,8,2):\n",
    "    print(angka)"
   ]
  },
  {
   "cell_type": "code",
   "execution_count": 49,
   "id": "691a0edb",
   "metadata": {},
   "outputs": [
    {
     "name": "stdout",
     "output_type": "stream",
     "text": [
      "[['RIZAL', 'rizal'], ['JAZA', 'jaza'], ['IRVAN', 'irvan'], ['RISMA', 'risma'], ['SHAFIRA', 'shafira']]\n"
     ]
    }
   ],
   "source": [
    "nama = ['rizal', 'JAZA', 'IRVAN', 'risma', 'shafira']\n",
    "cap = [[_.upper(), _.lower()] for _ in nama]\n",
    "print(cap)"
   ]
  }
 ],
 "metadata": {
  "kernelspec": {
   "display_name": "Python 3 (ipykernel)",
   "language": "python",
   "name": "python3"
  },
  "language_info": {
   "codemirror_mode": {
    "name": "ipython",
    "version": 3
   },
   "file_extension": ".py",
   "mimetype": "text/x-python",
   "name": "python",
   "nbconvert_exporter": "python",
   "pygments_lexer": "ipython3",
   "version": "3.9.12"
  }
 },
 "nbformat": 4,
 "nbformat_minor": 5
}
