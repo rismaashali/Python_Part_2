{
 "cells": [
  {
   "cell_type": "markdown",
   "id": "c1344ece",
   "metadata": {},
   "source": [
    "If\n",
    "\n",
    "if statement is conditional statement to decides whether certain statements need to be executed or not. It checks for a given condition, if the condition is true, then the set of code present inside the ” if ” block will be executed otherwise not"
   ]
  },
  {
   "cell_type": "code",
   "execution_count": 1,
   "id": "fa3f772f",
   "metadata": {},
   "outputs": [],
   "source": [
    "data = 3>2\n",
    "if data:\n",
    "    print('3 is greater than 2')"
   ]
  },
  {
   "cell_type": "markdown",
   "id": "dca9c4e0",
   "metadata": {},
   "source": [
    "Else\n",
    "\n",
    "\n",
    "Else statement block will execute only when the if condition becomes false. It is the block where you will perform some actions when the condition is not true."
   ]
  },
  {
   "cell_type": "code",
   "execution_count": 2,
   "id": "459738fc",
   "metadata": {},
   "outputs": [
    {
     "name": "stdout",
     "output_type": "stream",
     "text": [
      "2 is lower than 3\n"
     ]
    }
   ],
   "source": [
    "data = 2>3\n",
    "\n",
    "if data:\n",
    "    print('2 is greater than 3')\n",
    "else:\n",
    "    print('2 is lower than 3')"
   ]
  },
  {
   "cell_type": "markdown",
   "id": "1ca462a4",
   "metadata": {},
   "source": [
    "Elif\n",
    "\n",
    "\n",
    "Elif statement is used to check multiple conditions only if the given condition is false. It’s similar to an else statement and the only difference is that in “else” we will not check the condition but in “elif” we will check the condition."
   ]
  },
  {
   "cell_type": "code",
   "execution_count": 23,
   "id": "5f09c3c0",
   "metadata": {},
   "outputs": [
    {
     "name": "stdout",
     "output_type": "stream",
     "text": [
      "2 is lower than 3\n"
     ]
    }
   ],
   "source": [
    "data = 2\n",
    "data2 = 3 \n",
    "\n",
    "if data>data:\n",
    "    print('2 is greater than 3')\n",
    "elif data<data2:\n",
    "    print('2 is lower than 3')\n",
    "else:\n",
    "    print('2 is equal to 3')"
   ]
  }
 ],
 "metadata": {
  "kernelspec": {
   "display_name": "Python 3 (ipykernel)",
   "language": "python",
   "name": "python3"
  },
  "language_info": {
   "codemirror_mode": {
    "name": "ipython",
    "version": 3
   },
   "file_extension": ".py",
   "mimetype": "text/x-python",
   "name": "python",
   "nbconvert_exporter": "python",
   "pygments_lexer": "ipython3",
   "version": "3.7.9"
  }
 },
 "nbformat": 4,
 "nbformat_minor": 5
}
